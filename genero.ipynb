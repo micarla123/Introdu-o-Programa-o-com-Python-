{
  "nbformat": 4,
  "nbformat_minor": 0,
  "metadata": {
    "colab": {
      "name": "genero",
      "provenance": []
    },
    "kernelspec": {
      "name": "python3",
      "display_name": "Python 3"
    }
  },
  "cells": [
    {
      "cell_type": "markdown",
      "metadata": {
        "id": "WliHk-k3EHna"
      },
      "source": [
        "Curso: Python para Visualização e Análise de Dados\n",
        "\n",
        "Professor: Carlos Artur Guimarães\n",
        "\n",
        "UFRN - IMD  \n",
        "\n",
        "Aluna: Micarla Oliveira da Silva"
      ]
    },
    {
      "cell_type": "markdown",
      "metadata": {
        "id": "yZRP6knRDS5b"
      },
      "source": [
        "**01) PROBLEMATICA**\n",
        "\n",
        "Desigualdade entre homens e mulheres.\n",
        "\n"
      ]
    },
    {
      "cell_type": "markdown",
      "metadata": {
        "id": "Nnwo1z8wD-1m"
      },
      "source": [
        "**02) AQUISIÇÃO DOS DADOS** "
      ]
    },
    {
      "cell_type": "code",
      "metadata": {
        "id": "Kf4hh1jDB40x",
        "outputId": "7bbcdb08-803f-4959-e78f-4abfe6df9f73",
        "colab": {
          "base_uri": "https://localhost:8080/",
          "height": 742
        }
      },
      "source": [
        "import matplotlib.pyplot as plt\n",
        "import numpy as np\n",
        "import pandas as pd\n",
        "\n",
        "df = pd.read_csv (\"/content/tabela - Página1.csv\")\n",
        "df"
      ],
      "execution_count": null,
      "outputs": [
        {
          "output_type": "execute_result",
          "data": {
            "text/html": [
              "<div>\n",
              "<style scoped>\n",
              "    .dataframe tbody tr th:only-of-type {\n",
              "        vertical-align: middle;\n",
              "    }\n",
              "\n",
              "    .dataframe tbody tr th {\n",
              "        vertical-align: top;\n",
              "    }\n",
              "\n",
              "    .dataframe thead th {\n",
              "        text-align: right;\n",
              "    }\n",
              "</style>\n",
              "<table border=\"1\" class=\"dataframe\">\n",
              "  <thead>\n",
              "    <tr style=\"text-align: right;\">\n",
              "      <th></th>\n",
              "      <th>Unnamed: 0</th>\n",
              "      <th>Unnamed: 1</th>\n",
              "      <th>Unnamed: 2</th>\n",
              "      <th>Unnamed: 3</th>\n",
              "      <th>Unnamed: 4</th>\n",
              "      <th>Unnamed: 5</th>\n",
              "      <th>Unnamed: 6</th>\n",
              "      <th>Unnamed: 7</th>\n",
              "    </tr>\n",
              "  </thead>\n",
              "  <tbody>\n",
              "    <tr>\n",
              "      <th>0</th>\n",
              "      <td>Indicador CGMI</td>\n",
              "      <td>O que foi calculado</td>\n",
              "      <td>Ano</td>\n",
              "      <td>Brasil</td>\n",
              "      <td>Homem</td>\n",
              "      <td>Mulher</td>\n",
              "      <td>Unidade</td>\n",
              "      <td>Fonte</td>\n",
              "    </tr>\n",
              "    <tr>\n",
              "      <th>1</th>\n",
              "      <td>Número médio de horas nos afazeres domésticos,...</td>\n",
              "      <td>Número médio de horas semanais dedicadas aos c...</td>\n",
              "      <td>2016</td>\n",
              "      <td>16,7</td>\n",
              "      <td>11,1</td>\n",
              "      <td>20,9</td>\n",
              "      <td>horas semanais</td>\n",
              "      <td>PNAD Contínua, consolidado de quintas entrevistas</td>\n",
              "    </tr>\n",
              "    <tr>\n",
              "      <th>2</th>\n",
              "      <td>NaN</td>\n",
              "      <td>Número médio de horas semanais dedicadas aos c...</td>\n",
              "      <td>2016</td>\n",
              "      <td>14,1</td>\n",
              "      <td>10,5</td>\n",
              "      <td>18,1</td>\n",
              "      <td>horas semanais</td>\n",
              "      <td>PNAD Contínua, consolidado de quintas entrevistas</td>\n",
              "    </tr>\n",
              "    <tr>\n",
              "      <th>3</th>\n",
              "      <td>Número médio de horas combinadas no trabalho r...</td>\n",
              "      <td>Número médio de horas combinadas no trabalho r...</td>\n",
              "      <td>2016</td>\n",
              "      <td>52,9</td>\n",
              "      <td>51,5</td>\n",
              "      <td>54,4</td>\n",
              "      <td>horas semanais</td>\n",
              "      <td>PNAD Contínua, consolidado de quintas entrevistas</td>\n",
              "    </tr>\n",
              "    <tr>\n",
              "      <th>4</th>\n",
              "      <td>Taxa de participação na força de trabalho para...</td>\n",
              "      <td>Taxa de participação na força de trabalho para...</td>\n",
              "      <td>2016</td>\n",
              "      <td>62,9</td>\n",
              "      <td>74</td>\n",
              "      <td>52,8</td>\n",
              "      <td>%</td>\n",
              "      <td>PNAD Contínua, consolidado de primeiras entrev...</td>\n",
              "    </tr>\n",
              "    <tr>\n",
              "      <th>...</th>\n",
              "      <td>...</td>\n",
              "      <td>...</td>\n",
              "      <td>...</td>\n",
              "      <td>...</td>\n",
              "      <td>...</td>\n",
              "      <td>...</td>\n",
              "      <td>...</td>\n",
              "      <td>...</td>\n",
              "    </tr>\n",
              "    <tr>\n",
              "      <th>63</th>\n",
              "      <td>Proporção de mulheres alguma vez unidas (15 a ...</td>\n",
              "      <td>Indicador não disponível</td>\n",
              "      <td>-</td>\n",
              "      <td>-</td>\n",
              "      <td>-</td>\n",
              "      <td>-</td>\n",
              "      <td>-</td>\n",
              "      <td>-</td>\n",
              "    </tr>\n",
              "    <tr>\n",
              "      <th>64</th>\n",
              "      <td>Proporção de mulheres (15 a 49 anos) submetida...</td>\n",
              "      <td>Indicador não disponível</td>\n",
              "      <td>-</td>\n",
              "      <td>-</td>\n",
              "      <td>-</td>\n",
              "      <td>-</td>\n",
              "      <td>-</td>\n",
              "      <td>-</td>\n",
              "    </tr>\n",
              "    <tr>\n",
              "      <th>65</th>\n",
              "      <td>Prevalência de mutilação/corte genital feminin...</td>\n",
              "      <td>Indicador não disponível</td>\n",
              "      <td>-</td>\n",
              "      <td>-</td>\n",
              "      <td>-</td>\n",
              "      <td>-</td>\n",
              "      <td>-</td>\n",
              "      <td>-</td>\n",
              "    </tr>\n",
              "    <tr>\n",
              "      <th>66</th>\n",
              "      <td>Porcentagem de mulheres de 20 a 24 anos de ida...</td>\n",
              "      <td>Proporção de mulheres de 20 a 24 anos de idade...</td>\n",
              "      <td>2006</td>\n",
              "      <td>-</td>\n",
              "      <td>-</td>\n",
              "      <td>35,6</td>\n",
              "      <td>%</td>\n",
              "      <td>PNDS</td>\n",
              "    </tr>\n",
              "    <tr>\n",
              "      <th>67</th>\n",
              "      <td>Taxa de fecundidade adolescente</td>\n",
              "      <td>Taxa específica de fecundidade de mulheres de ...</td>\n",
              "      <td>2016</td>\n",
              "      <td>-</td>\n",
              "      <td>-</td>\n",
              "      <td>56</td>\n",
              "      <td>‰</td>\n",
              "      <td>Projeção da população</td>\n",
              "    </tr>\n",
              "  </tbody>\n",
              "</table>\n",
              "<p>68 rows × 8 columns</p>\n",
              "</div>"
            ],
            "text/plain": [
              "                                           Unnamed: 0  ...                                         Unnamed: 7\n",
              "0                                      Indicador CGMI  ...                                              Fonte\n",
              "1   Número médio de horas nos afazeres domésticos,...  ...  PNAD Contínua, consolidado de quintas entrevistas\n",
              "2                                                 NaN  ...  PNAD Contínua, consolidado de quintas entrevistas\n",
              "3   Número médio de horas combinadas no trabalho r...  ...  PNAD Contínua, consolidado de quintas entrevistas\n",
              "4   Taxa de participação na força de trabalho para...  ...  PNAD Contínua, consolidado de primeiras entrev...\n",
              "..                                                ...  ...                                                ...\n",
              "63  Proporção de mulheres alguma vez unidas (15 a ...  ...                                                  -\n",
              "64  Proporção de mulheres (15 a 49 anos) submetida...  ...                                                  -\n",
              "65  Prevalência de mutilação/corte genital feminin...  ...                                                  -\n",
              "66  Porcentagem de mulheres de 20 a 24 anos de ida...  ...                                               PNDS\n",
              "67                    Taxa de fecundidade adolescente  ...                              Projeção da população\n",
              "\n",
              "[68 rows x 8 columns]"
            ]
          },
          "metadata": {
            "tags": []
          },
          "execution_count": 2
        }
      ]
    },
    {
      "cell_type": "markdown",
      "metadata": {
        "id": "rZHervGDFq8-"
      },
      "source": [
        "**03) LEITURA DOS DADOS**"
      ]
    },
    {
      "cell_type": "code",
      "metadata": {
        "id": "fJpxLwabF41k",
        "outputId": "4638d0b3-c347-49be-aa62-1230da89a3a9",
        "colab": {
          "base_uri": "https://localhost:8080/",
          "height": 241
        }
      },
      "source": [
        "#Instalação Missigno\n",
        "pip install missingno "
      ],
      "execution_count": null,
      "outputs": [
        {
          "output_type": "stream",
          "text": [
            "Requirement already satisfied: missingno in /usr/local/lib/python3.6/dist-packages (0.4.2)\n",
            "Requirement already satisfied: matplotlib in /usr/local/lib/python3.6/dist-packages (from missingno) (3.2.2)\n",
            "Requirement already satisfied: seaborn in /usr/local/lib/python3.6/dist-packages (from missingno) (0.10.1)\n",
            "Requirement already satisfied: numpy in /usr/local/lib/python3.6/dist-packages (from missingno) (1.18.5)\n",
            "Requirement already satisfied: scipy in /usr/local/lib/python3.6/dist-packages (from missingno) (1.4.1)\n",
            "Requirement already satisfied: kiwisolver>=1.0.1 in /usr/local/lib/python3.6/dist-packages (from matplotlib->missingno) (1.2.0)\n",
            "Requirement already satisfied: cycler>=0.10 in /usr/local/lib/python3.6/dist-packages (from matplotlib->missingno) (0.10.0)\n",
            "Requirement already satisfied: pyparsing!=2.0.4,!=2.1.2,!=2.1.6,>=2.0.1 in /usr/local/lib/python3.6/dist-packages (from matplotlib->missingno) (2.4.7)\n",
            "Requirement already satisfied: python-dateutil>=2.1 in /usr/local/lib/python3.6/dist-packages (from matplotlib->missingno) (2.8.1)\n",
            "Requirement already satisfied: pandas>=0.22.0 in /usr/local/lib/python3.6/dist-packages (from seaborn->missingno) (1.0.5)\n",
            "Requirement already satisfied: six in /usr/local/lib/python3.6/dist-packages (from cycler>=0.10->matplotlib->missingno) (1.15.0)\n",
            "Requirement already satisfied: pytz>=2017.2 in /usr/local/lib/python3.6/dist-packages (from pandas>=0.22.0->seaborn->missingno) (2018.9)\n"
          ],
          "name": "stdout"
        }
      ]
    },
    {
      "cell_type": "code",
      "metadata": {
        "id": "HakChkekF76L",
        "outputId": "30036588-93b7-4f19-c087-b1fc138e1ea8",
        "colab": {
          "base_uri": "https://localhost:8080/",
          "height": 512
        }
      },
      "source": [
        "#Leitura dos dados usando pandas e missingno na função matrix\n",
        "import pandas as pd\n",
        "import missingno as msno \n",
        "\n",
        "df = pd.read_csv (\"/content/tabela - Página1.csv\")\n",
        "msno.matrix(df)"
      ],
      "execution_count": null,
      "outputs": [
        {
          "output_type": "stream",
          "text": [
            "/usr/local/lib/python3.6/dist-packages/statsmodels/tools/_testing.py:19: FutureWarning: pandas.util.testing is deprecated. Use the functions in the public API at pandas.testing instead.\n",
            "  import pandas.util.testing as tm\n"
          ],
          "name": "stderr"
        },
        {
          "output_type": "execute_result",
          "data": {
            "text/plain": [
              "<matplotlib.axes._subplots.AxesSubplot at 0x7f21c6882ef0>"
            ]
          },
          "metadata": {
            "tags": []
          },
          "execution_count": 5
        },
        {
          "output_type": "display_data",
          "data": {
            "image/png": "[encoded data removed]",
            "text/plain": [
              "<Figure size 1800x720 with 2 Axes>"
            ]
          },
          "metadata": {
            "tags": [],
            "needs_background": "light"
          }
        }
      ]
    },
    {
      "cell_type": "code",
      "metadata": {
        "id": "91mQxAcIHcnZ",
        "outputId": "c72edafa-e8f5-48b7-ddac-3c423d878b92",
        "colab": {
          "base_uri": "https://localhost:8080/",
          "height": 486
        }
      },
      "source": [
        "#Vizualização de valores faltantes barra\n",
        "import pandas as pd\n",
        "import missingno as msno \n",
        "\n",
        "df = pd.read_csv (\"/content/tabela - Página1.csv\")\n",
        "msno.bar(df)"
      ],
      "execution_count": null,
      "outputs": [
        {
          "output_type": "execute_result",
          "data": {
            "text/plain": [
              "<matplotlib.axes._subplots.AxesSubplot at 0x7f21c3b9d9e8>"
            ]
          },
          "metadata": {
            "tags": []
          },
          "execution_count": 6
        },
        {
          "output_type": "display_data",
          "data": {
            "image/png": "[encoded data removed]",
            "text/plain": [
              "<Figure size 1728x720 with 3 Axes>"
            ]
          },
          "metadata": {
            "tags": [],
            "needs_background": "light"
          }
        }
      ]
    },
    {
      "cell_type": "code",
      "metadata": {
        "id": "f3hZbK7DICQg",
        "outputId": "8b667fd0-9ac6-4840-8d16-5e8178789c5d",
        "colab": {
          "base_uri": "https://localhost:8080/",
          "height": 661
        }
      },
      "source": [
        "#Vizualização de dados por área de calor\n",
        "import pandas as pd\n",
        "import missingno as msno \n",
        "\n",
        "df = pd.read_csv (\"/content/tabela - Página1.csv\")\n",
        "msno.heatmap(df)"
      ],
      "execution_count": null,
      "outputs": [
        {
          "output_type": "execute_result",
          "data": {
            "text/plain": [
              "<matplotlib.axes._subplots.AxesSubplot at 0x7f21d1346358>"
            ]
          },
          "metadata": {
            "tags": []
          },
          "execution_count": 7
        },
        {
          "output_type": "display_data",
          "data": {
            "image/png": "[encoded data removed]",
            "text/plain": [
              "<Figure size 1440x864 with 2 Axes>"
            ]
          },
          "metadata": {
            "tags": [],
            "needs_background": "light"
          }
        }
      ]
    },
    {
      "cell_type": "markdown",
      "metadata": {
        "id": "q9FpHZHCPjAl"
      },
      "source": [
        "**4) LIMPEZA DOS DADOS**"
      ]
    },
    {
      "cell_type": "code",
      "metadata": {
        "id": "xCuzPuQZPioy",
        "outputId": "9488efe7-c27b-4d00-ade2-c1f6ae12db13",
        "colab": {
          "base_uri": "https://localhost:8080/",
          "height": 68
        }
      },
      "source": [
        "#Informações das colunas\n",
        "df.columns.values"
      ],
      "execution_count": null,
      "outputs": [
        {
          "output_type": "execute_result",
          "data": {
            "text/plain": [
              "array(['Unnamed: 0', 'Unnamed: 1', 'Unnamed: 2', 'Unnamed: 3',\n",
              "       'Unnamed: 4', 'Unnamed: 5', 'Unnamed: 6', 'Unnamed: 7'],\n",
              "      dtype=object)"
            ]
          },
          "metadata": {
            "tags": []
          },
          "execution_count": 9
        }
      ]
    },
    {
      "cell_type": "code",
      "metadata": {
        "id": "l7LgxycpPugf",
        "outputId": "c1e39aa9-fea0-4af5-e14e-c84295cbd43e",
        "colab": {
          "base_uri": "https://localhost:8080/",
          "height": 419
        }
      },
      "source": [
        "## Criar uma lista de colunas selecionadas\n",
        "columns_to_be_selected = [\"Unnamed: 0\", \"Unnamed: 4\" , \"Unnamed: 5\"] \n",
        "##  Indexar o dtaframe a partir da lista criada\n",
        "df[columns_to_be_selected]\n",
        " "
      ],
      "execution_count": null,
      "outputs": [
        {
          "output_type": "execute_result",
          "data": {
            "text/html": [
              "<div>\n",
              "<style scoped>\n",
              "    .dataframe tbody tr th:only-of-type {\n",
              "        vertical-align: middle;\n",
              "    }\n",
              "\n",
              "    .dataframe tbody tr th {\n",
              "        vertical-align: top;\n",
              "    }\n",
              "\n",
              "    .dataframe thead th {\n",
              "        text-align: right;\n",
              "    }\n",
              "</style>\n",
              "<table border=\"1\" class=\"dataframe\">\n",
              "  <thead>\n",
              "    <tr style=\"text-align: right;\">\n",
              "      <th></th>\n",
              "      <th>Unnamed: 0</th>\n",
              "      <th>Unnamed: 4</th>\n",
              "      <th>Unnamed: 5</th>\n",
              "    </tr>\n",
              "  </thead>\n",
              "  <tbody>\n",
              "    <tr>\n",
              "      <th>0</th>\n",
              "      <td>Indicador CGMI</td>\n",
              "      <td>Homem</td>\n",
              "      <td>Mulher</td>\n",
              "    </tr>\n",
              "    <tr>\n",
              "      <th>1</th>\n",
              "      <td>Número médio de horas nos afazeres domésticos,...</td>\n",
              "      <td>11,1</td>\n",
              "      <td>20,9</td>\n",
              "    </tr>\n",
              "    <tr>\n",
              "      <th>2</th>\n",
              "      <td>NaN</td>\n",
              "      <td>10,5</td>\n",
              "      <td>18,1</td>\n",
              "    </tr>\n",
              "    <tr>\n",
              "      <th>3</th>\n",
              "      <td>Número médio de horas combinadas no trabalho r...</td>\n",
              "      <td>51,5</td>\n",
              "      <td>54,4</td>\n",
              "    </tr>\n",
              "    <tr>\n",
              "      <th>4</th>\n",
              "      <td>Taxa de participação na força de trabalho para...</td>\n",
              "      <td>74</td>\n",
              "      <td>52,8</td>\n",
              "    </tr>\n",
              "    <tr>\n",
              "      <th>...</th>\n",
              "      <td>...</td>\n",
              "      <td>...</td>\n",
              "      <td>...</td>\n",
              "    </tr>\n",
              "    <tr>\n",
              "      <th>63</th>\n",
              "      <td>Proporção de mulheres alguma vez unidas (15 a ...</td>\n",
              "      <td>-</td>\n",
              "      <td>-</td>\n",
              "    </tr>\n",
              "    <tr>\n",
              "      <th>64</th>\n",
              "      <td>Proporção de mulheres (15 a 49 anos) submetida...</td>\n",
              "      <td>-</td>\n",
              "      <td>-</td>\n",
              "    </tr>\n",
              "    <tr>\n",
              "      <th>65</th>\n",
              "      <td>Prevalência de mutilação/corte genital feminin...</td>\n",
              "      <td>-</td>\n",
              "      <td>-</td>\n",
              "    </tr>\n",
              "    <tr>\n",
              "      <th>66</th>\n",
              "      <td>Porcentagem de mulheres de 20 a 24 anos de ida...</td>\n",
              "      <td>-</td>\n",
              "      <td>35,6</td>\n",
              "    </tr>\n",
              "    <tr>\n",
              "      <th>67</th>\n",
              "      <td>Taxa de fecundidade adolescente</td>\n",
              "      <td>-</td>\n",
              "      <td>56</td>\n",
              "    </tr>\n",
              "  </tbody>\n",
              "</table>\n",
              "<p>68 rows × 3 columns</p>\n",
              "</div>"
            ],
            "text/plain": [
              "                                           Unnamed: 0 Unnamed: 4 Unnamed: 5\n",
              "0                                      Indicador CGMI      Homem     Mulher\n",
              "1   Número médio de horas nos afazeres domésticos,...       11,1       20,9\n",
              "2                                                 NaN       10,5       18,1\n",
              "3   Número médio de horas combinadas no trabalho r...       51,5       54,4\n",
              "4   Taxa de participação na força de trabalho para...         74       52,8\n",
              "..                                                ...        ...        ...\n",
              "63  Proporção de mulheres alguma vez unidas (15 a ...          -          -\n",
              "64  Proporção de mulheres (15 a 49 anos) submetida...          -          -\n",
              "65  Prevalência de mutilação/corte genital feminin...          -          -\n",
              "66  Porcentagem de mulheres de 20 a 24 anos de ida...          -       35,6\n",
              "67                    Taxa de fecundidade adolescente          -         56\n",
              "\n",
              "[68 rows x 3 columns]"
            ]
          },
          "metadata": {
            "tags": []
          },
          "execution_count": 10
        }
      ]
    },
    {
      "cell_type": "code",
      "metadata": {
        "id": "fpWJLnLgJ7c6",
        "outputId": "560582cd-9a8a-4cb4-dde7-72e880aafd46",
        "colab": {
          "base_uri": "https://localhost:8080/",
          "height": 275
        }
      },
      "source": [
        "#Mostrar estatística \n",
        "df.describe"
      ],
      "execution_count": null,
      "outputs": [
        {
          "output_type": "execute_result",
          "data": {
            "text/plain": [
              "<bound method NDFrame.describe of                                            Unnamed: 0  ...                                         Unnamed: 7\n",
              "0                                      Indicador CGMI  ...                                              Fonte\n",
              "1   Número médio de horas nos afazeres domésticos,...  ...  PNAD Contínua, consolidado de quintas entrevistas\n",
              "2                                                 NaN  ...  PNAD Contínua, consolidado de quintas entrevistas\n",
              "3   Número médio de horas combinadas no trabalho r...  ...  PNAD Contínua, consolidado de quintas entrevistas\n",
              "4   Taxa de participação na força de trabalho para...  ...  PNAD Contínua, consolidado de primeiras entrev...\n",
              "..                                                ...  ...                                                ...\n",
              "63  Proporção de mulheres alguma vez unidas (15 a ...  ...                                                  -\n",
              "64  Proporção de mulheres (15 a 49 anos) submetida...  ...                                                  -\n",
              "65  Prevalência de mutilação/corte genital feminin...  ...                                                  -\n",
              "66  Porcentagem de mulheres de 20 a 24 anos de ida...  ...                                               PNDS\n",
              "67                    Taxa de fecundidade adolescente  ...                              Projeção da população\n",
              "\n",
              "[68 rows x 8 columns]>"
            ]
          },
          "metadata": {
            "tags": []
          },
          "execution_count": 8
        }
      ]
    },
    {
      "cell_type": "markdown",
      "metadata": {
        "id": "iakVstg6MNy6"
      },
      "source": [
        "**ANALISE DOS DADOS  E  INTERPRETAÇÃO**\n"
      ]
    },
    {
      "cell_type": "markdown",
      "metadata": {
        "id": "3OLP4iLfOdcC"
      },
      "source": [
        "**HOMENS X MULHERES**\n",
        "\n",
        "Índice de desigualdade de gênero\n",
        "\n"
      ]
    },
    {
      "cell_type": "code",
      "metadata": {
        "id": "x2yGalC1JElY",
        "outputId": "7710e63f-5e96-4138-8332-30b55c380401",
        "colab": {
          "base_uri": "https://localhost:8080/",
          "height": 359
        }
      },
      "source": [
        "import matplotlib.pyplot as plt\n",
        "import numpy as np\n",
        "import pandas as pd\n",
        "\n",
        "df = pd.read_csv (\"/content/02 - Página1 (1).csv\")\n",
        "df"
      ],
      "execution_count": null,
      "outputs": [
        {
          "output_type": "execute_result",
          "data": {
            "text/html": [
              "<div>\n",
              "<style scoped>\n",
              "    .dataframe tbody tr th:only-of-type {\n",
              "        vertical-align: middle;\n",
              "    }\n",
              "\n",
              "    .dataframe tbody tr th {\n",
              "        vertical-align: top;\n",
              "    }\n",
              "\n",
              "    .dataframe thead th {\n",
              "        text-align: right;\n",
              "    }\n",
              "</style>\n",
              "<table border=\"1\" class=\"dataframe\">\n",
              "  <thead>\n",
              "    <tr style=\"text-align: right;\">\n",
              "      <th></th>\n",
              "      <th>INDICE DE DESILGUALDADE DE GÊNERO</th>\n",
              "      <th>Unnamed: 1</th>\n",
              "    </tr>\n",
              "  </thead>\n",
              "  <tbody>\n",
              "    <tr>\n",
              "      <th>0</th>\n",
              "      <td>PAÍSES</td>\n",
              "      <td>ÍNDICE</td>\n",
              "    </tr>\n",
              "    <tr>\n",
              "      <th>1</th>\n",
              "      <td>Noruega</td>\n",
              "      <td>0.79</td>\n",
              "    </tr>\n",
              "    <tr>\n",
              "      <th>2</th>\n",
              "      <td>EUA</td>\n",
              "      <td>0.74</td>\n",
              "    </tr>\n",
              "    <tr>\n",
              "      <th>3</th>\n",
              "      <td>Equador</td>\n",
              "      <td>0.69</td>\n",
              "    </tr>\n",
              "    <tr>\n",
              "      <th>4</th>\n",
              "      <td>Brasil</td>\n",
              "      <td>0.65</td>\n",
              "    </tr>\n",
              "    <tr>\n",
              "      <th>5</th>\n",
              "      <td>Chile</td>\n",
              "      <td>0.66</td>\n",
              "    </tr>\n",
              "    <tr>\n",
              "      <th>6</th>\n",
              "      <td>México</td>\n",
              "      <td>0.63</td>\n",
              "    </tr>\n",
              "    <tr>\n",
              "      <th>7</th>\n",
              "      <td>Argentina</td>\n",
              "      <td>0.63</td>\n",
              "    </tr>\n",
              "    <tr>\n",
              "      <th>8</th>\n",
              "      <td>Índia</td>\n",
              "      <td>0.48</td>\n",
              "    </tr>\n",
              "    <tr>\n",
              "      <th>9</th>\n",
              "      <td>Parquistão</td>\n",
              "      <td>0.37</td>\n",
              "    </tr>\n",
              "  </tbody>\n",
              "</table>\n",
              "</div>"
            ],
            "text/plain": [
              "  INDICE DE DESILGUALDADE DE GÊNERO  Unnamed: 1\n",
              "0                             PAÍSES     ÍNDICE\n",
              "1                            Noruega       0.79\n",
              "2                                EUA       0.74\n",
              "3                            Equador       0.69\n",
              "4                             Brasil       0.65\n",
              "5                              Chile       0.66\n",
              "6                             México       0.63\n",
              "7                          Argentina       0.63\n",
              "8                              Índia       0.48\n",
              "9                         Parquistão       0.37"
            ]
          },
          "metadata": {
            "tags": []
          },
          "execution_count": 3
        }
      ]
    },
    {
      "cell_type": "code",
      "metadata": {
        "id": "_lvl7kJJOcgW",
        "outputId": "8f9d56d5-bafe-4d5b-be93-90b1d78f923a",
        "colab": {
          "base_uri": "https://localhost:8080/",
          "height": 265
        }
      },
      "source": [
        "# libraries\n",
        "import numpy as np\n",
        "import matplotlib.pyplot as plt\n",
        " \n",
        "# Make fake dataset\n",
        "height = [0.79, 0.74, 0.69, 0.66, 0.65, 0.63,0.63,0.48,0.37]\n",
        "bars = ('Noruega', 'EUA', 'Equador', 'Brasil', 'Chile', 'México', 'Argentia', 'Índia', 'Parquitão')\n",
        "y_pos = np.arange(len(bars))\n",
        " \n",
        "# Create horizontal bars\n",
        "plt.barh(y_pos, height)\n",
        " \n",
        "# Create names on the y-axis\n",
        "plt.yticks(y_pos, bars)\n",
        " \n",
        "\n",
        "# Show graphic\n",
        "plt.show()\n"
      ],
      "execution_count": null,
      "outputs": [
        {
          "output_type": "display_data",
          "data": {
            "image/png": "[encoded data removed]",
            "text/plain": [
              "<Figure size 432x288 with 1 Axes>"
            ]
          },
          "metadata": {
            "tags": [],
            "needs_background": "light"
          }
        }
      ]
    },
    {
      "cell_type": "markdown",
      "metadata": {
        "id": "jNho_KLSQzRb"
      },
      "source": [
        "**DESIGUALDADE ENTRE HOMENS E MULHERES NO MERCADO DE TRABALHO PREJUDICA ECONOMIA, SEGUNDO ESTUDO**\n",
        "\n",
        "\n",
        "Países com níveis extremamente altos de desigualdade, em %\n"
      ]
    },
    {
      "cell_type": "code",
      "metadata": {
        "id": "6NlNFpScJ0-Q",
        "outputId": "3465ddbd-af28-41b8-f084-b0396b9f4bab",
        "colab": {
          "base_uri": "https://localhost:8080/",
          "height": 328
        }
      },
      "source": [
        "df = pd.read_csv (\"/content/03 - Página1.csv\")\n",
        "df"
      ],
      "execution_count": null,
      "outputs": [
        {
          "output_type": "execute_result",
          "data": {
            "text/html": [
              "<div>\n",
              "<style scoped>\n",
              "    .dataframe tbody tr th:only-of-type {\n",
              "        vertical-align: middle;\n",
              "    }\n",
              "\n",
              "    .dataframe tbody tr th {\n",
              "        vertical-align: top;\n",
              "    }\n",
              "\n",
              "    .dataframe thead th {\n",
              "        text-align: right;\n",
              "    }\n",
              "</style>\n",
              "<table border=\"1\" class=\"dataframe\">\n",
              "  <thead>\n",
              "    <tr style=\"text-align: right;\">\n",
              "      <th></th>\n",
              "      <th>DESIGUALDADE ENTRE HOMENS E MULHERES</th>\n",
              "      <th>Unnamed: 1</th>\n",
              "    </tr>\n",
              "  </thead>\n",
              "  <tbody>\n",
              "    <tr>\n",
              "      <th>0</th>\n",
              "      <td>INDICADORES SOCIAIS</td>\n",
              "      <td>ÍNDICE</td>\n",
              "    </tr>\n",
              "    <tr>\n",
              "      <th>1</th>\n",
              "      <td>Educação</td>\n",
              "      <td>18%</td>\n",
              "    </tr>\n",
              "    <tr>\n",
              "      <th>2</th>\n",
              "      <td>Mão de obra</td>\n",
              "      <td>45%</td>\n",
              "    </tr>\n",
              "    <tr>\n",
              "      <th>3</th>\n",
              "      <td>Violência contra a mulher</td>\n",
              "      <td>58%</td>\n",
              "    </tr>\n",
              "    <tr>\n",
              "      <th>4</th>\n",
              "      <td>Proteção legal</td>\n",
              "      <td>89%</td>\n",
              "    </tr>\n",
              "    <tr>\n",
              "      <th>5</th>\n",
              "      <td>Salário pago para mesma atividade</td>\n",
              "      <td>93%</td>\n",
              "    </tr>\n",
              "    <tr>\n",
              "      <th>6</th>\n",
              "      <td>Cargo de chefia</td>\n",
              "      <td>93%</td>\n",
              "    </tr>\n",
              "    <tr>\n",
              "      <th>7</th>\n",
              "      <td>Trabalho doméstico não remunerado</td>\n",
              "      <td>96%</td>\n",
              "    </tr>\n",
              "    <tr>\n",
              "      <th>8</th>\n",
              "      <td>Representação política</td>\n",
              "      <td>97%</td>\n",
              "    </tr>\n",
              "  </tbody>\n",
              "</table>\n",
              "</div>"
            ],
            "text/plain": [
              "  DESIGUALDADE ENTRE HOMENS E MULHERES Unnamed: 1\n",
              "0                 INDICADORES SOCIAIS      ÍNDICE\n",
              "1                             Educação        18%\n",
              "2                          Mão de obra        45%\n",
              "3            Violência contra a mulher        58%\n",
              "4                       Proteção legal        89%\n",
              "5    Salário pago para mesma atividade        93%\n",
              "6                      Cargo de chefia        93%\n",
              "7    Trabalho doméstico não remunerado        96%\n",
              "8               Representação política        97%"
            ]
          },
          "metadata": {
            "tags": []
          },
          "execution_count": 4
        }
      ]
    },
    {
      "cell_type": "code",
      "metadata": {
        "id": "xEY1V9lyTaFG",
        "outputId": "38b6a62b-267b-46a1-e0bd-2e3aa675d8f7",
        "colab": {
          "base_uri": "https://localhost:8080/",
          "height": 392
        }
      },
      "source": [
        "# libraries\n",
        "import numpy as np\n",
        "import matplotlib.pyplot as plt\n",
        " \n",
        "# Create data\n",
        "height = [18, 45, 58, 89, 93, 93, 96, 97]\n",
        "bars = ('Educação', 'Mão de obra', 'Violência contra a mulher', 'Proteção legal', 'Salário pago para mesma atividade', 'Cargo de chefia', 'Trabalho doméstico não remunerado', 'Representação política')\n",
        "y_pos = np.arange(len(bars))\n",
        "# Create bars\n",
        "plt.bar(y_pos, height)\n",
        " \n",
        "# Rotation of the bars names\n",
        "plt.xticks(y_pos, bars, rotation=90)\n",
        " \n",
        "# Custom the subplot layout\n",
        "plt.subplots_adjust(bottom=0.4, top=0.99)\n",
        " \n",
        "# Show graphic\n",
        "plt.show()\n"
      ],
      "execution_count": null,
      "outputs": [
        {
          "output_type": "display_data",
          "data": {
            "image/png": "[encoded data removed]",
            "text/plain": [
              "<Figure size 432x288 with 1 Axes>"
            ]
          },
          "metadata": {
            "tags": [],
            "needs_background": "light"
          }
        }
      ]
    },
    {
      "cell_type": "markdown",
      "metadata": {
        "id": "aiPmyXNmUBsT"
      },
      "source": [
        "**PARTICIPAÇÃO DAS MULHERES**\n",
        "\n",
        "Em % por setor"
      ]
    },
    {
      "cell_type": "code",
      "metadata": {
        "id": "AYAtsSByPBne",
        "outputId": "d0944086-e35c-44a0-d8b1-36f6d6152c76",
        "colab": {
          "base_uri": "https://localhost:8080/",
          "height": 235
        }
      },
      "source": [
        "df = pd.read_csv (\"/content/04 - Página1.csv\")\n",
        "df"
      ],
      "execution_count": null,
      "outputs": [
        {
          "output_type": "execute_result",
          "data": {
            "text/html": [
              "<div>\n",
              "<style scoped>\n",
              "    .dataframe tbody tr th:only-of-type {\n",
              "        vertical-align: middle;\n",
              "    }\n",
              "\n",
              "    .dataframe tbody tr th {\n",
              "        vertical-align: top;\n",
              "    }\n",
              "\n",
              "    .dataframe thead th {\n",
              "        text-align: right;\n",
              "    }\n",
              "</style>\n",
              "<table border=\"1\" class=\"dataframe\">\n",
              "  <thead>\n",
              "    <tr style=\"text-align: right;\">\n",
              "      <th></th>\n",
              "      <th>PARTICIPAÇÃO DAS MULHERES POR SETORES</th>\n",
              "      <th>Unnamed: 1</th>\n",
              "    </tr>\n",
              "  </thead>\n",
              "  <tbody>\n",
              "    <tr>\n",
              "      <th>0</th>\n",
              "      <td>SETORES</td>\n",
              "      <td>PORCENTAGEM</td>\n",
              "    </tr>\n",
              "    <tr>\n",
              "      <th>1</th>\n",
              "      <td>Manufatura</td>\n",
              "      <td>21%</td>\n",
              "    </tr>\n",
              "    <tr>\n",
              "      <th>2</th>\n",
              "      <td>Educação</td>\n",
              "      <td>14%</td>\n",
              "    </tr>\n",
              "    <tr>\n",
              "      <th>3</th>\n",
              "      <td>Áreas social e saúde</td>\n",
              "      <td>12%</td>\n",
              "    </tr>\n",
              "    <tr>\n",
              "      <th>4</th>\n",
              "      <td>Varejo</td>\n",
              "      <td>11%</td>\n",
              "    </tr>\n",
              "    <tr>\n",
              "      <th>5</th>\n",
              "      <td>Administração pítica</td>\n",
              "      <td>8%</td>\n",
              "    </tr>\n",
              "  </tbody>\n",
              "</table>\n",
              "</div>"
            ],
            "text/plain": [
              "  PARTICIPAÇÃO DAS MULHERES POR SETORES    Unnamed: 1\n",
              "0                               SETORES  PORCENTAGEM \n",
              "1                            Manufatura           21%\n",
              "2                              Educação           14%\n",
              "3                  Áreas social e saúde           12%\n",
              "4                                Varejo           11%\n",
              "5                  Administração pítica            8%"
            ]
          },
          "metadata": {
            "tags": []
          },
          "execution_count": 5
        }
      ]
    },
    {
      "cell_type": "code",
      "metadata": {
        "id": "-BqVOpvyUCAn",
        "outputId": "84557ac9-b21d-4c1a-8f44-87a0d0d531f4",
        "colab": {
          "base_uri": "https://localhost:8080/",
          "height": 310
        }
      },
      "source": [
        "# libraries\n",
        "import numpy as np\n",
        "import matplotlib.pyplot as plt\n",
        " \n",
        "# Create data\n",
        "height = [21, 14, 12, 11, 8]\n",
        "bars = ('Manufatura', 'Educação', 'Áreas social e saúde', 'Varejo', 'Administração pítica')\n",
        "y_pos = np.arange(len(bars))\n",
        "# Create bars\n",
        "plt.bar(y_pos, height)\n",
        " \n",
        "# Rotation of the bars names\n",
        "plt.xticks(y_pos, bars, rotation=90)\n",
        " \n",
        "# Custom the subplot layout\n",
        "plt.subplots_adjust(bottom=0.4, top=0.99)\n",
        " \n",
        "# Show graphic\n",
        "plt.show()"
      ],
      "execution_count": null,
      "outputs": [
        {
          "output_type": "display_data",
          "data": {
            "image/png": "[encoded data removed]",
            "text/plain": [
              "<Figure size 432x288 with 1 Axes>"
            ]
          },
          "metadata": {
            "tags": [],
            "needs_background": "light"
          }
        }
      ]
    },
    {
      "cell_type": "markdown",
      "metadata": {
        "id": "dFvir9KPWATL"
      },
      "source": [
        "**Referência**\n",
        "\n",
        "http://www.granadeiro.adv.br/clipping/midia/2015/11/26/igualdade-de-genero-acrescentaria-ate-us-850-bi-a-economia-do-brasil-diz-estudo\n",
        "\n",
        "\n",
        "https://www.ibge.gov.br/estatisticas/downloads-estatisticas.html"
      ]
    }
  ]
}